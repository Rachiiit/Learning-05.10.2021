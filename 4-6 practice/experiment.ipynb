{
 "cells": [
  {
   "cell_type": "code",
   "execution_count": 1,
   "id": "4f90df2a",
   "metadata": {},
   "outputs": [
    {
     "name": "stdout",
     "output_type": "stream",
     "text": [
      "Rossy\n",
      "Rossy\n",
      "Rossy\n",
      "Rossy\n",
      "Rossy\n",
      "Rossy\n",
      "Rossy\n",
      "Rossy\n",
      "Rossy\n",
      "Rossy\n"
     ]
    }
   ],
   "source": [
    "for x in range(10):\n",
    "    print('Rossy')"
   ]
  },
  {
   "cell_type": "code",
   "execution_count": 3,
   "id": "d2a51e51",
   "metadata": {},
   "outputs": [
    {
     "name": "stdout",
     "output_type": "stream",
     "text": [
      "Roshitha\n",
      "Roshitha\n",
      "Roshitha\n",
      "Roshitha\n",
      "Roshitha\n",
      "Roshitha\n",
      "Roshitha\n",
      "Roshitha\n",
      "Roshitha\n",
      "Roshitha\n"
     ]
    }
   ],
   "source": [
    "for _ in range(10):\n",
    "    print('Roshitha')"
   ]
  },
  {
   "cell_type": "code",
   "execution_count": 4,
   "id": "cab92925",
   "metadata": {},
   "outputs": [
    {
     "data": {
      "text/plain": [
       "9"
      ]
     },
     "execution_count": 4,
     "metadata": {},
     "output_type": "execute_result"
    }
   ],
   "source": [
    "x"
   ]
  },
  {
   "cell_type": "code",
   "execution_count": 5,
   "id": "4645c722",
   "metadata": {},
   "outputs": [
    {
     "data": {
      "text/plain": [
       "9"
      ]
     },
     "execution_count": 5,
     "metadata": {},
     "output_type": "execute_result"
    }
   ],
   "source": [
    "_"
   ]
  },
  {
   "cell_type": "code",
   "execution_count": 6,
   "id": "ed068ade",
   "metadata": {},
   "outputs": [
    {
     "ename": "SyntaxError",
     "evalue": "invalid syntax (Temp/ipykernel_43764/2110448645.py, line 1)",
     "output_type": "error",
     "traceback": [
      "\u001b[1;36m  File \u001b[1;32m\"C:\\Users\\rchtp\\AppData\\Local\\Temp/ipykernel_43764/2110448645.py\"\u001b[1;36m, line \u001b[1;32m1\u001b[0m\n\u001b[1;33m    for i in 0..<4 {\u001b[0m\n\u001b[1;37m                ^\u001b[0m\n\u001b[1;31mSyntaxError\u001b[0m\u001b[1;31m:\u001b[0m invalid syntax\n"
     ]
    }
   ],
   "source": [
    "for i in 0..<4 {\n",
    "    print(i)\n",
    "}"
   ]
  }
 ],
 "metadata": {
  "kernelspec": {
   "display_name": "Python 3 (ipykernel)",
   "language": "python",
   "name": "python3"
  },
  "language_info": {
   "codemirror_mode": {
    "name": "ipython",
    "version": 3
   },
   "file_extension": ".py",
   "mimetype": "text/x-python",
   "name": "python",
   "nbconvert_exporter": "python",
   "pygments_lexer": "ipython3",
   "version": "3.9.6"
  }
 },
 "nbformat": 4,
 "nbformat_minor": 5
}
